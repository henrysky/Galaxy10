{
 "cells": [
  {
   "cell_type": "markdown",
   "id": "included-whale",
   "metadata": {},
   "source": [
    "# Inspect GZ2 Dataset\n",
    "\n",
    "`gz2_hart16.csv` avaliable at https://data.galaxyzoo.org/"
   ]
  },
  {
   "cell_type": "code",
   "execution_count": 1,
   "id": "brief-utilization",
   "metadata": {},
   "outputs": [
    {
     "name": "stdout",
     "output_type": "stream",
     "text": [
      "Length of gz2_hart16.csv: 239695\n",
      "Number of GZ2-SDSS galaxies missing in DECals: 748\n"
     ]
    }
   ],
   "source": [
    "import os\n",
    "\n",
    "import numpy as np\n",
    "import pandas as pd\n",
    "import pylab as plt\n",
    "from astroNN.shared.matplotlib import pylab_style\n",
    "\n",
    "pylab_style(paper=True)\n",
    "\n",
    "f_sdss = pd.read_csv(\"gz2_hart16.csv\")\n",
    "print(f\"Length of gz2_hart16.csv: {len(f_sdss)}\")\n",
    "\n",
    "# not all GZ2 galaxies are covered by DECals, deleted those entries if not covered\n",
    "exists_idx = np.array(\n",
    "    [os.path.exists(f\"gz2_des/{str(i).rjust(6, '0')}.jpg\") for i in range(len(f_sdss))]\n",
    ")\n",
    "print(f\"Number of GZ2-SDSS galaxies missing in DECals: {np.sum(~exists_idx)}\")\n",
    "\n",
    "# cutout non-exist DES galaxies (while covered by SDSS)\n",
    "f_sdss = f_sdss[exists_idx]"
   ]
  },
  {
   "cell_type": "code",
   "execution_count": 2,
   "id": "offshore-ghost",
   "metadata": {},
   "outputs": [
    {
     "data": {
      "text/plain": [
       "array(['dr7objid', 'ra', 'dec', 'rastring', 'decstring', 'sample',\n",
       "       'gz2_class', 'total_classifications', 'total_votes',\n",
       "       't01_smooth_or_features_a01_smooth_count',\n",
       "       't01_smooth_or_features_a01_smooth_weight',\n",
       "       't01_smooth_or_features_a01_smooth_fraction',\n",
       "       't01_smooth_or_features_a01_smooth_weighted_fraction',\n",
       "       't01_smooth_or_features_a01_smooth_debiased',\n",
       "       't01_smooth_or_features_a01_smooth_flag',\n",
       "       't01_smooth_or_features_a02_features_or_disk_count',\n",
       "       't01_smooth_or_features_a02_features_or_disk_weight',\n",
       "       't01_smooth_or_features_a02_features_or_disk_fraction',\n",
       "       't01_smooth_or_features_a02_features_or_disk_weighted_fraction',\n",
       "       't01_smooth_or_features_a02_features_or_disk_debiased',\n",
       "       't01_smooth_or_features_a02_features_or_disk_flag',\n",
       "       't01_smooth_or_features_a03_star_or_artifact_count',\n",
       "       't01_smooth_or_features_a03_star_or_artifact_weight',\n",
       "       't01_smooth_or_features_a03_star_or_artifact_fraction',\n",
       "       't01_smooth_or_features_a03_star_or_artifact_weighted_fraction',\n",
       "       't01_smooth_or_features_a03_star_or_artifact_debiased',\n",
       "       't01_smooth_or_features_a03_star_or_artifact_flag',\n",
       "       't02_edgeon_a04_yes_count', 't02_edgeon_a04_yes_weight',\n",
       "       't02_edgeon_a04_yes_fraction',\n",
       "       't02_edgeon_a04_yes_weighted_fraction',\n",
       "       't02_edgeon_a04_yes_debiased', 't02_edgeon_a04_yes_flag',\n",
       "       't02_edgeon_a05_no_count', 't02_edgeon_a05_no_weight',\n",
       "       't02_edgeon_a05_no_fraction',\n",
       "       't02_edgeon_a05_no_weighted_fraction',\n",
       "       't02_edgeon_a05_no_debiased', 't02_edgeon_a05_no_flag',\n",
       "       't03_bar_a06_bar_count', 't03_bar_a06_bar_weight',\n",
       "       't03_bar_a06_bar_fraction', 't03_bar_a06_bar_weighted_fraction',\n",
       "       't03_bar_a06_bar_debiased', 't03_bar_a06_bar_flag',\n",
       "       't03_bar_a07_no_bar_count', 't03_bar_a07_no_bar_weight',\n",
       "       't03_bar_a07_no_bar_fraction',\n",
       "       't03_bar_a07_no_bar_weighted_fraction',\n",
       "       't03_bar_a07_no_bar_debiased', 't03_bar_a07_no_bar_flag',\n",
       "       't04_spiral_a08_spiral_count', 't04_spiral_a08_spiral_weight',\n",
       "       't04_spiral_a08_spiral_fraction',\n",
       "       't04_spiral_a08_spiral_weighted_fraction',\n",
       "       't04_spiral_a08_spiral_debiased', 't04_spiral_a08_spiral_flag',\n",
       "       't04_spiral_a09_no_spiral_count',\n",
       "       't04_spiral_a09_no_spiral_weight',\n",
       "       't04_spiral_a09_no_spiral_fraction',\n",
       "       't04_spiral_a09_no_spiral_weighted_fraction',\n",
       "       't04_spiral_a09_no_spiral_debiased',\n",
       "       't04_spiral_a09_no_spiral_flag',\n",
       "       't05_bulge_prominence_a10_no_bulge_count',\n",
       "       't05_bulge_prominence_a10_no_bulge_weight',\n",
       "       't05_bulge_prominence_a10_no_bulge_fraction',\n",
       "       't05_bulge_prominence_a10_no_bulge_weighted_fraction',\n",
       "       't05_bulge_prominence_a10_no_bulge_debiased',\n",
       "       't05_bulge_prominence_a10_no_bulge_flag',\n",
       "       't05_bulge_prominence_a11_just_noticeable_count',\n",
       "       't05_bulge_prominence_a11_just_noticeable_weight',\n",
       "       't05_bulge_prominence_a11_just_noticeable_fraction',\n",
       "       't05_bulge_prominence_a11_just_noticeable_weighted_fraction',\n",
       "       't05_bulge_prominence_a11_just_noticeable_debiased',\n",
       "       't05_bulge_prominence_a11_just_noticeable_flag',\n",
       "       't05_bulge_prominence_a12_obvious_count',\n",
       "       't05_bulge_prominence_a12_obvious_weight',\n",
       "       't05_bulge_prominence_a12_obvious_fraction',\n",
       "       't05_bulge_prominence_a12_obvious_weighted_fraction',\n",
       "       't05_bulge_prominence_a12_obvious_debiased',\n",
       "       't05_bulge_prominence_a12_obvious_flag',\n",
       "       't05_bulge_prominence_a13_dominant_count',\n",
       "       't05_bulge_prominence_a13_dominant_weight',\n",
       "       't05_bulge_prominence_a13_dominant_fraction',\n",
       "       't05_bulge_prominence_a13_dominant_weighted_fraction',\n",
       "       't05_bulge_prominence_a13_dominant_debiased',\n",
       "       't05_bulge_prominence_a13_dominant_flag', 't06_odd_a14_yes_count',\n",
       "       't06_odd_a14_yes_weight', 't06_odd_a14_yes_fraction',\n",
       "       't06_odd_a14_yes_weighted_fraction', 't06_odd_a14_yes_debiased',\n",
       "       't06_odd_a14_yes_flag', 't06_odd_a15_no_count',\n",
       "       't06_odd_a15_no_weight', 't06_odd_a15_no_fraction',\n",
       "       't06_odd_a15_no_weighted_fraction', 't06_odd_a15_no_debiased',\n",
       "       't06_odd_a15_no_flag', 't07_rounded_a16_completely_round_count',\n",
       "       't07_rounded_a16_completely_round_weight',\n",
       "       't07_rounded_a16_completely_round_fraction',\n",
       "       't07_rounded_a16_completely_round_weighted_fraction',\n",
       "       't07_rounded_a16_completely_round_debiased',\n",
       "       't07_rounded_a16_completely_round_flag',\n",
       "       't07_rounded_a17_in_between_count',\n",
       "       't07_rounded_a17_in_between_weight',\n",
       "       't07_rounded_a17_in_between_fraction',\n",
       "       't07_rounded_a17_in_between_weighted_fraction',\n",
       "       't07_rounded_a17_in_between_debiased',\n",
       "       't07_rounded_a17_in_between_flag',\n",
       "       't07_rounded_a18_cigar_shaped_count',\n",
       "       't07_rounded_a18_cigar_shaped_weight',\n",
       "       't07_rounded_a18_cigar_shaped_fraction',\n",
       "       't07_rounded_a18_cigar_shaped_weighted_fraction',\n",
       "       't07_rounded_a18_cigar_shaped_debiased',\n",
       "       't07_rounded_a18_cigar_shaped_flag',\n",
       "       't08_odd_feature_a19_ring_count',\n",
       "       't08_odd_feature_a19_ring_weight',\n",
       "       't08_odd_feature_a19_ring_fraction',\n",
       "       't08_odd_feature_a19_ring_weighted_fraction',\n",
       "       't08_odd_feature_a19_ring_debiased',\n",
       "       't08_odd_feature_a19_ring_flag',\n",
       "       't08_odd_feature_a20_lens_or_arc_count',\n",
       "       't08_odd_feature_a20_lens_or_arc_weight',\n",
       "       't08_odd_feature_a20_lens_or_arc_fraction',\n",
       "       't08_odd_feature_a20_lens_or_arc_weighted_fraction',\n",
       "       't08_odd_feature_a20_lens_or_arc_debiased',\n",
       "       't08_odd_feature_a20_lens_or_arc_flag',\n",
       "       't08_odd_feature_a21_disturbed_count',\n",
       "       't08_odd_feature_a21_disturbed_weight',\n",
       "       't08_odd_feature_a21_disturbed_fraction',\n",
       "       't08_odd_feature_a21_disturbed_weighted_fraction',\n",
       "       't08_odd_feature_a21_disturbed_debiased',\n",
       "       't08_odd_feature_a21_disturbed_flag',\n",
       "       't08_odd_feature_a22_irregular_count',\n",
       "       't08_odd_feature_a22_irregular_weight',\n",
       "       't08_odd_feature_a22_irregular_fraction',\n",
       "       't08_odd_feature_a22_irregular_weighted_fraction',\n",
       "       't08_odd_feature_a22_irregular_debiased',\n",
       "       't08_odd_feature_a22_irregular_flag',\n",
       "       't08_odd_feature_a23_other_count',\n",
       "       't08_odd_feature_a23_other_weight',\n",
       "       't08_odd_feature_a23_other_fraction',\n",
       "       't08_odd_feature_a23_other_weighted_fraction',\n",
       "       't08_odd_feature_a23_other_debiased',\n",
       "       't08_odd_feature_a23_other_flag',\n",
       "       't08_odd_feature_a24_merger_count',\n",
       "       't08_odd_feature_a24_merger_weight',\n",
       "       't08_odd_feature_a24_merger_fraction',\n",
       "       't08_odd_feature_a24_merger_weighted_fraction',\n",
       "       't08_odd_feature_a24_merger_debiased',\n",
       "       't08_odd_feature_a24_merger_flag',\n",
       "       't08_odd_feature_a38_dust_lane_count',\n",
       "       't08_odd_feature_a38_dust_lane_weight',\n",
       "       't08_odd_feature_a38_dust_lane_fraction',\n",
       "       't08_odd_feature_a38_dust_lane_weighted_fraction',\n",
       "       't08_odd_feature_a38_dust_lane_debiased',\n",
       "       't08_odd_feature_a38_dust_lane_flag',\n",
       "       't09_bulge_shape_a25_rounded_count',\n",
       "       't09_bulge_shape_a25_rounded_weight',\n",
       "       't09_bulge_shape_a25_rounded_fraction',\n",
       "       't09_bulge_shape_a25_rounded_weighted_fraction',\n",
       "       't09_bulge_shape_a25_rounded_debiased',\n",
       "       't09_bulge_shape_a25_rounded_flag',\n",
       "       't09_bulge_shape_a26_boxy_count',\n",
       "       't09_bulge_shape_a26_boxy_weight',\n",
       "       't09_bulge_shape_a26_boxy_fraction',\n",
       "       't09_bulge_shape_a26_boxy_weighted_fraction',\n",
       "       't09_bulge_shape_a26_boxy_debiased',\n",
       "       't09_bulge_shape_a26_boxy_flag',\n",
       "       't09_bulge_shape_a27_no_bulge_count',\n",
       "       't09_bulge_shape_a27_no_bulge_weight',\n",
       "       't09_bulge_shape_a27_no_bulge_fraction',\n",
       "       't09_bulge_shape_a27_no_bulge_weighted_fraction',\n",
       "       't09_bulge_shape_a27_no_bulge_debiased',\n",
       "       't09_bulge_shape_a27_no_bulge_flag',\n",
       "       't10_arms_winding_a28_tight_count',\n",
       "       't10_arms_winding_a28_tight_weight',\n",
       "       't10_arms_winding_a28_tight_fraction',\n",
       "       't10_arms_winding_a28_tight_weighted_fraction',\n",
       "       't10_arms_winding_a28_tight_debiased',\n",
       "       't10_arms_winding_a28_tight_flag',\n",
       "       't10_arms_winding_a29_medium_count',\n",
       "       't10_arms_winding_a29_medium_weight',\n",
       "       't10_arms_winding_a29_medium_fraction',\n",
       "       't10_arms_winding_a29_medium_weighted_fraction',\n",
       "       't10_arms_winding_a29_medium_debiased',\n",
       "       't10_arms_winding_a29_medium_flag',\n",
       "       't10_arms_winding_a30_loose_count',\n",
       "       't10_arms_winding_a30_loose_weight',\n",
       "       't10_arms_winding_a30_loose_fraction',\n",
       "       't10_arms_winding_a30_loose_weighted_fraction',\n",
       "       't10_arms_winding_a30_loose_debiased',\n",
       "       't10_arms_winding_a30_loose_flag', 't11_arms_number_a31_1_count',\n",
       "       't11_arms_number_a31_1_weight', 't11_arms_number_a31_1_fraction',\n",
       "       't11_arms_number_a31_1_weighted_fraction',\n",
       "       't11_arms_number_a31_1_debiased', 't11_arms_number_a31_1_flag',\n",
       "       't11_arms_number_a32_2_count', 't11_arms_number_a32_2_weight',\n",
       "       't11_arms_number_a32_2_fraction',\n",
       "       't11_arms_number_a32_2_weighted_fraction',\n",
       "       't11_arms_number_a32_2_debiased', 't11_arms_number_a32_2_flag',\n",
       "       't11_arms_number_a33_3_count', 't11_arms_number_a33_3_weight',\n",
       "       't11_arms_number_a33_3_fraction',\n",
       "       't11_arms_number_a33_3_weighted_fraction',\n",
       "       't11_arms_number_a33_3_debiased', 't11_arms_number_a33_3_flag',\n",
       "       't11_arms_number_a34_4_count', 't11_arms_number_a34_4_weight',\n",
       "       't11_arms_number_a34_4_fraction',\n",
       "       't11_arms_number_a34_4_weighted_fraction',\n",
       "       't11_arms_number_a34_4_debiased', 't11_arms_number_a34_4_flag',\n",
       "       't11_arms_number_a36_more_than_4_count',\n",
       "       't11_arms_number_a36_more_than_4_weight',\n",
       "       't11_arms_number_a36_more_than_4_fraction',\n",
       "       't11_arms_number_a36_more_than_4_weighted_fraction',\n",
       "       't11_arms_number_a36_more_than_4_debiased',\n",
       "       't11_arms_number_a36_more_than_4_flag',\n",
       "       't11_arms_number_a37_cant_tell_count',\n",
       "       't11_arms_number_a37_cant_tell_weight',\n",
       "       't11_arms_number_a37_cant_tell_fraction',\n",
       "       't11_arms_number_a37_cant_tell_weighted_fraction',\n",
       "       't11_arms_number_a37_cant_tell_debiased',\n",
       "       't11_arms_number_a37_cant_tell_flag'], dtype=object)"
      ]
     },
     "execution_count": 2,
     "metadata": {},
     "output_type": "execute_result"
    }
   ],
   "source": [
    "f_sdss.columns.values"
   ]
  },
  {
   "cell_type": "code",
   "execution_count": 8,
   "id": "digital-publisher",
   "metadata": {},
   "outputs": [
    {
     "data": {
      "image/png": "[encoded data removed]",
      "text/plain": [
       "<Figure size 720x360 with 1 Axes>"
      ]
     },
     "metadata": {
      "image/png": {
       "height": 352,
       "width": 662
      }
     },
     "output_type": "display_data"
    }
   ],
   "source": [
    "fig = plt.figure(figsize=(10, 5))\n",
    "ax = fig.gca()\n",
    "ax.scatter(f_sdss[\"ra\"], f_sdss[\"dec\"], s=1, rasterized=True)\n",
    "ax.set_xlim(0, 360)\n",
    "ax.set_ylim(-90, 90)\n",
    "ax.set_xlabel(\"RA (deg)\")\n",
    "ax.set_ylabel(\"DEC (deg)\")\n",
    "ax.set_aspect(\"equal\")\n",
    "fig.tight_layout()\n",
    "fig.savefig(\"figs/gz2_sdss_radec.pdf\", bbox_inches=\"tight\")"
   ]
  },
  {
   "cell_type": "code",
   "execution_count": 4,
   "id": "parliamentary-arlington",
   "metadata": {},
   "outputs": [
    {
     "data": {
      "text/plain": [
       "(array([0.0000e+00, 0.0000e+00, 0.0000e+00, 0.0000e+00, 0.0000e+00,\n",
       "        0.0000e+00, 0.0000e+00, 0.0000e+00, 2.0000e+00, 1.4000e+01,\n",
       "        4.8000e+01, 1.6400e+02, 4.3700e+02, 1.0090e+03, 2.1920e+03,\n",
       "        4.3200e+03, 7.2180e+03, 1.1045e+04, 1.5952e+04, 2.1796e+04,\n",
       "        3.0937e+04, 4.0668e+04, 3.9467e+04, 2.3292e+04, 1.5250e+04,\n",
       "        9.9120e+03, 6.4520e+03, 3.8970e+03, 2.2790e+03, 1.2230e+03,\n",
       "        6.7000e+02, 3.6300e+02, 1.9100e+02, 8.5000e+01, 5.3000e+01]),\n",
       " array([ 0.,  2.,  4.,  6.,  8., 10., 12., 14., 16., 18., 20., 22., 24.,\n",
       "        26., 28., 30., 32., 34., 36., 38., 40., 42., 44., 46., 48., 50.,\n",
       "        52., 54., 56., 58., 60., 62., 64., 66., 68., 70.]),\n",
       " <BarContainer object of 35 artists>)"
      ]
     },
     "execution_count": 4,
     "metadata": {},
     "output_type": "execute_result"
    },
    {
     "data": {
      "image/png": "[encoded data removed]",
      "text/plain": [
       "<Figure size 720x360 with 1 Axes>"
      ]
     },
     "metadata": {
      "image/png": {
       "height": 312,
       "width": 621
      }
     },
     "output_type": "display_data"
    }
   ],
   "source": [
    "fig = plt.figure(figsize=(10, 5))\n",
    "ax = fig.gca()\n",
    "ax.hist(\n",
    "    f_sdss[\"t01_smooth_or_features_a01_smooth_count\"]\n",
    "    + f_sdss[\"t01_smooth_or_features_a02_features_or_disk_count\"]\n",
    "    + f_sdss[\"t01_smooth_or_features_a03_star_or_artifact_count\"],\n",
    "    range=(0, 70),\n",
    "    bins=35,\n",
    "    alpha=0.5,\n",
    ")"
   ]
  },
  {
   "cell_type": "code",
   "execution_count": 4,
   "id": "sustainable-charity",
   "metadata": {},
   "outputs": [
    {
     "data": {
      "text/plain": [
       "110964"
      ]
     },
     "execution_count": 4,
     "metadata": {},
     "output_type": "execute_result"
    }
   ],
   "source": [
    "# cross-matching to see if galaxies are in GZ-DES, if not remove them\n",
    "\n",
    "from astroNN.datasets.xmatch import xmatch\n",
    "\n",
    "f_ab = pd.read_csv(\"gz_decals_volunteers_ab.csv\")\n",
    "ra_ab = f_ab[\"ra\"]\n",
    "dec_ab = f_ab[\"dec\"]\n",
    "\n",
    "f_c = pd.read_csv(\"gz_decals_volunteers_c.csv\")\n",
    "ra_c = f_c[\"ra\"][~f_c[\"in_gzd_ab\"]]\n",
    "dec_c = f_c[\"dec\"][~f_c[\"in_gzd_ab\"]]\n",
    "\n",
    "ra_abc = np.concatenate([ra_ab.to_numpy(), ra_c.to_numpy()])\n",
    "dec_abc = np.concatenate([dec_ab.to_numpy(), dec_c.to_numpy()])\n",
    "\n",
    "idx1, idx2, sep = xmatch(f_sdss[\"ra\"], f_sdss[\"dec\"], ra_abc, dec_abc)\n",
    "\n",
    "in_gz_des_abc = np.zeros(len(f_sdss), dtype=bool)\n",
    "in_gz_des_abc[idx1] = True\n",
    "f_sdss[\"in_gz_des_abc\"] = in_gz_des_abc\n",
    "f_sdss.to_csv(\"gz2_hart16_modded.csv\")"
   ]
  },
  {
   "cell_type": "markdown",
   "id": "several-polyester",
   "metadata": {},
   "source": [
    "## Retrieve redshift of SDSS galaxies\n",
    "\n",
    "The original GZ2 used SDSS DR7 `objid` but seems we have issue to query with SDSS DR7, so we have query DR14 which have different `objid` but then cross-match RA/DEC to get row-matched redshift"
   ]
  },
  {
   "cell_type": "code",
   "execution_count": 10,
   "id": "ordered-avatar",
   "metadata": {},
   "outputs": [
    {
     "name": "stderr",
     "output_type": "stream",
     "text": [
      "C:\\Users\\Henry\\miniconda3\\lib\\site-packages\\astroquery\\sdss\\core.py:862: VisibleDeprecationWarning: Reading unicode strings without specifying the encoding argument is deprecated. Set the encoding, use None for the system default.\n",
      "  arr = np.atleast_1d(np.genfromtxt(io.BytesIO(response.content),\n",
      "100%|███████████████████████████████████████████████████████████████████████████████████████████████████████████████████████████████████████████████████████████████████████████████████████████████████████████████████████████████████| 4778/4778 [44:29<00:00,  1.79it/s]\n"
     ]
    }
   ],
   "source": [
    "import astropy.units as u\n",
    "import numpy as np\n",
    "import pandas as pd\n",
    "import tqdm\n",
    "from astroNN.datasets import xmatch\n",
    "from astropy import coordinates as coords\n",
    "from astropy.table import Table, vstack\n",
    "from astroquery.sdss import SDSS\n",
    "\n",
    "f_sdss = pd.read_csv(\"gz2_hart16_modded.csv\")\n",
    "\n",
    "idx = 0\n",
    "pos = coords.SkyCoord(\n",
    "    ra=f_sdss[\"ra\"][idx * 50 : idx * 50 + 50].to_numpy() * u.deg,\n",
    "    dec=f_sdss[\"dec\"][idx * 50 : idx * 50 + 50].to_numpy() * u.deg,\n",
    "    frame=\"icrs\",\n",
    ")\n",
    "xid = SDSS.query_region(pos, spectro=True)\n",
    "idx = 1\n",
    "\n",
    "ra = xid[\"ra\"]\n",
    "dec = xid[\"dec\"]\n",
    "objid = xid[\"objid\"]\n",
    "z = xid[\"z\"]\n",
    "\n",
    "\n",
    "for i in tqdm.tqdm(range(1, len(f_sdss) // 50 + 1)):\n",
    "    pos = coords.SkyCoord(\n",
    "        ra=f_sdss[\"ra\"][idx * 50 : idx * 50 + 50].to_numpy() * u.deg,\n",
    "        dec=f_sdss[\"dec\"][idx * 50 : idx * 50 + 50].to_numpy() * u.deg,\n",
    "        frame=\"icrs\",\n",
    "    )\n",
    "    _xid = SDSS.query_region(pos, spectro=True)\n",
    "    ra = np.concatenate([ra, _xid[\"ra\"]])\n",
    "    dec = np.concatenate([dec, _xid[\"dec\"]])\n",
    "    objid = np.concatenate([objid, _xid[\"objid\"]])\n",
    "    z = np.concatenate([z, _xid[\"z\"]])\n",
    "    idx += 1\n",
    "\n",
    "idx1, idx2, _ = xmatch(ra, dec, f_sdss[\"ra\"], f_sdss[\"dec\"])\n",
    "\n",
    "z_sdss = np.ones(len(f_sdss[\"ra\"]))\n",
    "z_sdss[:] = np.nan\n",
    "z_sdss[idx2] = z[idx1]"
   ]
  },
  {
   "cell_type": "code",
   "execution_count": 38,
   "id": "periodic-hamburg",
   "metadata": {},
   "outputs": [],
   "source": [
    "# add redshift and save\n",
    "f_sdss[\"redshift\"] = z_sdss\n",
    "f_sdss.to_csv(\"gz2_hart16_modded_z.csv\")"
   ]
  }
 ],
 "metadata": {
  "kernelspec": {
   "display_name": "Python 3",
   "language": "python",
   "name": "python3"
  },
  "language_info": {
   "codemirror_mode": {
    "name": "ipython",
    "version": 3
   },
   "file_extension": ".py",
   "mimetype": "text/x-python",
   "name": "python",
   "nbconvert_exporter": "python",
   "pygments_lexer": "ipython3",
   "version": "3.12.2"
  }
 },
 "nbformat": 4,
 "nbformat_minor": 5
}
